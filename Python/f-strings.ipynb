{
 "cells": [
  {
   "cell_type": "code",
   "execution_count": 2,
   "id": "39d73498-c5ce-4da6-925a-0b7f40e664ea",
   "metadata": {},
   "outputs": [],
   "source": [
    "import datetime\n",
    "from dataclasses import dataclass"
   ]
  },
  {
   "cell_type": "code",
   "execution_count": 7,
   "id": "a4bef28f-580b-46cd-bf3c-42336d323113",
   "metadata": {},
   "outputs": [],
   "source": [
    "def mian():\n",
    "    pass\n",
    "main()"
   ]
  },
  {
   "cell_type": "markdown",
   "id": "b50902bf-3242-4fa2-bf0d-d27d94171a47",
   "metadata": {},
   "source": [
    "## Formatting numbers"
   ]
  },
  {
   "cell_type": "code",
   "execution_count": 27,
   "id": "4ce7d59e-a810-440d-9fd0-cdd168bafe90",
   "metadata": {},
   "outputs": [
    {
     "name": "stdout",
     "output_type": "stream",
     "text": [
      "The number is 800.\n",
      "The number is 320. Hex representation\n",
      "The number is 1440. Octo representation\n",
      "The number is 8.000000e+02. Scinetific representation\n",
      "The number is 000800. Total number of digits is 6\n"
     ]
    }
   ],
   "source": [
    "number = 800\n",
    "print(f'The number is {number}.')\n",
    "print(f'The number is {number:x}. Hex representation')\n",
    "print(f'The number is {number:o}. Octo representation')\n",
    "print(f'The number is {number:e}. Scinetific representation')\n",
    "print(f'The number is {number:06}. Total number of digits is 6')"
   ]
  },
  {
   "cell_type": "code",
   "execution_count": 28,
   "id": "e1d18487-c4dd-4043-aca3-5c3262ef92b3",
   "metadata": {},
   "outputs": [
    {
     "name": "stdout",
     "output_type": "stream",
     "text": [
      "The number is 100.32. 2 decimal places.\n"
     ]
    }
   ],
   "source": [
    "number = 100.321321321321\n",
    "print(f'The number is {number:.2f}. 2 decimal places.')"
   ]
  },
  {
   "cell_type": "code",
   "execution_count": 41,
   "id": "9106107d-ef67-421f-b0bc-3bf0cd4f3812",
   "metadata": {},
   "outputs": [
    {
     "name": "stdout",
     "output_type": "stream",
     "text": [
      "$ 40_000_000_000_000 Thousand separator.\n",
      "$ 40,000,000,000,000 Thousand separator.\n",
      "$ 40,000,000,000,000.00 Thousand separator and 2 decimal places.\n"
     ]
    }
   ],
   "source": [
    "number = 40000000000000\n",
    "print(f'$ {number:_} Thousand separator.')\n",
    "print(f'$ {number:,} Thousand separator.')\n",
    "print(f'$ {number:,.2f} Thousand separator and 2 decimal places.')"
   ]
  },
  {
   "cell_type": "code",
   "execution_count": 51,
   "id": "4c04c997-e371-4a22-9063-9e6e7733c7ca",
   "metadata": {},
   "outputs": [
    {
     "name": "stdout",
     "output_type": "stream",
     "text": [
      "31.560000% Percent.\n",
      "31.56% Percent and decimal place.\n"
     ]
    }
   ],
   "source": [
    "number = 0.3156\n",
    "print(f'{number:%} Percent.')\n",
    "print(f'{number:.2%} Percent and decimal place.')"
   ]
  },
  {
   "cell_type": "markdown",
   "id": "b1815a32-1bb1-49fa-99c4-9dcb5c1cb73f",
   "metadata": {},
   "source": [
    "## Alingment"
   ]
  },
  {
   "cell_type": "code",
   "execution_count": 63,
   "id": "e8f703ba-17fc-4988-bfed-6c3d4ce65158",
   "metadata": {},
   "outputs": [
    {
     "name": "stdout",
     "output_type": "stream",
     "text": [
      "The number is:   5\n",
      "The number is:   6\n",
      "The number is:   7\n",
      "The number is:   8\n",
      "The number is:   9\n",
      "The number is:  10\n",
      "The number is:  11\n",
      "The number is:  12\n",
      "The number is:  13\n",
      "The number is:  14\n"
     ]
    }
   ],
   "source": [
    "#Right alingment\n",
    "for number in range(5,15):\n",
    "    print(f'The number is: {number: 3}')"
   ]
  },
  {
   "cell_type": "code",
   "execution_count": 69,
   "id": "16ebc5cc-9713-4910-a510-d9d66c5d0dc8",
   "metadata": {},
   "outputs": [
    {
     "name": "stdout",
     "output_type": "stream",
     "text": [
      "Hi\n",
      "Hi\n",
      "Hi\n",
      " Hi\n",
      "  Hi\n"
     ]
    }
   ],
   "source": [
    "greet = 'Hi'\n",
    "print(f'{greet}')\n",
    "print(f'{greet:>1}')\n",
    "print(f'{greet:>2}')\n",
    "print(f'{greet:>3}')\n",
    "print(f'{greet:>4}')"
   ]
  },
  {
   "cell_type": "code",
   "execution_count": 74,
   "id": "82524cb2-f754-4ed6-b339-40f6fcfe4b1b",
   "metadata": {},
   "outputs": [
    {
     "name": "stdout",
     "output_type": "stream",
     "text": [
      "        Hi\n",
      "    Hi    \n",
      "Hi        \n"
     ]
    }
   ],
   "source": [
    "print(f'{greet:>10}') #right\n",
    "print(f'{greet:^10}') #center\n",
    "print(f'{greet:<10}') #left"
   ]
  },
  {
   "cell_type": "code",
   "execution_count": 78,
   "id": "642833df-63fc-46bc-8f05-168b612723e5",
   "metadata": {},
   "outputs": [
    {
     "name": "stdout",
     "output_type": "stream",
     "text": [
      "________Hi\n",
      "____Hi____\n",
      "Hi________\n"
     ]
    }
   ],
   "source": [
    "print(f'{greet:_>10}') #right with underscore\n",
    "print(f'{greet:_^10}') #center with underscore\n",
    "print(f'{greet:_<10}') #left with underscore"
   ]
  },
  {
   "cell_type": "code",
   "execution_count": 81,
   "id": "7afd26d3-ec09-4098-9cb5-4fec62b45484",
   "metadata": {},
   "outputs": [
    {
     "name": "stdout",
     "output_type": "stream",
     "text": [
      "3.4\n",
      "3.4\n",
      "       3.4\n"
     ]
    }
   ],
   "source": [
    "print(f'{3.4}')\n",
    "print(f'{3.4:2}') #to less to align to right.\n",
    "print(f'{3.4:10}')"
   ]
  },
  {
   "cell_type": "markdown",
   "id": "42168840-8ae3-46c2-a611-98b10ee1613f",
   "metadata": {},
   "source": [
    "### Dataclasses, str, repr"
   ]
  },
  {
   "cell_type": "code",
   "execution_count": 94,
   "id": "05e0e5ea-74ff-4786-accd-4c0246c6f0c3",
   "metadata": {},
   "outputs": [
    {
     "name": "stdout",
     "output_type": "stream",
     "text": [
      "User(first_name='Elon', last_name=' Musk')\n"
     ]
    }
   ],
   "source": [
    "# Repr version\n",
    "@dataclass\n",
    "class User:\n",
    "    first_name: str\n",
    "    last_name: str\n",
    "    \n",
    "user = User('Elon',' Musk')\n",
    "print(user)"
   ]
  },
  {
   "cell_type": "code",
   "execution_count": 91,
   "id": "c51c7611-bc8f-4e89-8e89-a465cac70dc1",
   "metadata": {},
   "outputs": [
    {
     "name": "stdout",
     "output_type": "stream",
     "text": [
      "<__main__.User object at 0x000001FBA2358190>\n"
     ]
    }
   ],
   "source": [
    "class User:\n",
    "    def __init__(self, first_name: str, last_name:str) -> None:\n",
    "        self.first_name = first_name\n",
    "        self.last_name = last_name\n",
    "    \n",
    "user = User('Elon',' Musk')\n",
    "print(user)"
   ]
  },
  {
   "cell_type": "code",
   "execution_count": 100,
   "id": "fc101809-24e9-4d85-b26e-f1427b023ec8",
   "metadata": {},
   "outputs": [
    {
     "name": "stdout",
     "output_type": "stream",
     "text": [
      "('Elon', ' Musk')\n",
      "User(first_name='Elon', last_name=' Musk')\n",
      "User(first_name='Elon', last_name=' Musk')\n"
     ]
    }
   ],
   "source": [
    "# String method\n",
    "\n",
    "@dataclass\n",
    "class User:\n",
    "    first_name: str\n",
    "    last_name: str\n",
    "    \n",
    "    def __str__(self) ->str:\n",
    "        return f'{self.first_name, self.last_name}'\n",
    "        \n",
    "    \n",
    "user = User('Elon',' Musk')\n",
    "print(f'{user}')\n",
    "print(f'{user!r}') # __repr__ instead of __str__\n",
    "print(f'{repr(user)}') # __repr__ instead of __str__"
   ]
  },
  {
   "cell_type": "markdown",
   "id": "2d011224-f41f-4d78-a48d-ab6fbdc130c5",
   "metadata": {},
   "source": [
    "### Formatting date and types"
   ]
  },
  {
   "cell_type": "code",
   "execution_count": 130,
   "id": "4b5531e0-1fab-4c47-b174-36f5b0f99542",
   "metadata": {},
   "outputs": [
    {
     "name": "stdout",
     "output_type": "stream",
     "text": [
      "Simple: 2022-09-13 13:15:02.339460\n",
      "\n",
      "13:15\n",
      "13:15:02\n",
      "13:15:02:339460\n",
      "\n",
      "2022\n",
      "2022.09\n",
      "2022.09.13\n",
      "\n",
      "13:15:02\n",
      "09/13/22\n",
      "Tuesday is today.\n",
      "\n",
      "Tuesday, September, 13, 2022\n"
     ]
    }
   ],
   "source": [
    "today = datetime.datetime.now()\n",
    "\n",
    "print(f'Simple: {today}')\n",
    "print('')\n",
    "print(f'{today:%H:%M}') \n",
    "print(f'{today:%H:%M:%S}')\n",
    "print(f'{today:%H:%M:%S:%f}')\n",
    "print('')\n",
    "print(f'{today:%Y}') \n",
    "print(f'{today:%Y.%m}') \n",
    "print(f'{today:%Y.%m.%d}') \n",
    "print('')\n",
    "print(f'{today:%T}') \n",
    "print(f'{today:%D}') \n",
    "print(f'{today:%A} is today.') \n",
    "print('')\n",
    "print(f'{today:%A, %B, %d, %Y}') "
   ]
  },
  {
   "cell_type": "code",
   "execution_count": 131,
   "id": "5a3d7b1c-9ca3-4fc8-9179-2adbd1ffdc21",
   "metadata": {},
   "outputs": [
    {
     "name": "stdout",
     "output_type": "stream",
     "text": [
      "09/13/22\n",
      "13:15:02\n"
     ]
    }
   ],
   "source": [
    "print(f'{today:%x}') #local date\n",
    "print(f'{today:%X}') #local time\n"
   ]
  },
  {
   "cell_type": "markdown",
   "id": "e62c3189-c8df-4b3c-b97c-ba1dbdcf2fdc",
   "metadata": {},
   "source": [
    "### Special characters"
   ]
  },
  {
   "cell_type": "code",
   "execution_count": 151,
   "id": "afb5100b-e109-40dd-ad45-86d437f46d86",
   "metadata": {},
   "outputs": [
    {
     "name": "stdout",
     "output_type": "stream",
     "text": [
      "{single braces}\n",
      "{{double braces}}\n",
      "\n",
      "{{\"quote\"}}\n",
      "\n",
      "{{'quote'}}\n",
      "{{\"quote\"}}\n"
     ]
    }
   ],
   "source": [
    "print(f'{{single braces}}')\n",
    "print(f'{{{{double braces}}}}') \n",
    "print('')\n",
    "print(f'{{{{\"quote\"}}}}') \n",
    "print('')\n",
    "print(f\"{{{{'quote'}}}}\") \n",
    "print(f\"{{{{\\\"quote\\\"}}}}\") "
   ]
  },
  {
   "cell_type": "code",
   "execution_count": 157,
   "id": "3aad2398-c853-4eb9-b742-e0a5d8fcb0de",
   "metadata": {},
   "outputs": [
    {
     "name": "stdout",
     "output_type": "stream",
     "text": [
      "world\n",
      "world\n"
     ]
    }
   ],
   "source": [
    "# double and single quotes\n",
    "dictionary = {\"hello\": 'world'}\n",
    "\n",
    "print(f\"{dictionary['hello']}\")\n",
    "print(f'{dictionary[\"hello\"]}')"
   ]
  },
  {
   "cell_type": "markdown",
   "id": "0e76b4eb-e75a-490e-95cb-a56eba5aed5a",
   "metadata": {},
   "source": [
    "### Printing variables and debuging"
   ]
  },
  {
   "cell_type": "code",
   "execution_count": 167,
   "id": "173e5bd9-8170-4f6b-8ca6-47f71c3e1fec",
   "metadata": {},
   "outputs": [
    {
     "name": "stdout",
     "output_type": "stream",
     "text": [
      "x=45, y=78\n",
      "x=45, y=78\n",
      "x = 45, y = 78\n"
     ]
    }
   ],
   "source": [
    "x = 45\n",
    "y = 78\n",
    "\n",
    "print(f'x={x}, y={y}')\n",
    "print(f'{x=}, {y=}') # same as above\n",
    "print(f'{x = }, {y = }') # same as above"
   ]
  },
  {
   "cell_type": "markdown",
   "id": "11f0e716-0519-48a4-a059-d24ead3e002c",
   "metadata": {},
   "source": [
    "### Multiline strings"
   ]
  },
  {
   "cell_type": "code",
   "execution_count": 173,
   "id": "854f0912-01f0-4a14-85e2-8a1764264336",
   "metadata": {},
   "outputs": [
    {
     "name": "stdout",
     "output_type": "stream",
     "text": [
      "Hi Mat. I am from Poland. I live in Lodz. \n"
     ]
    }
   ],
   "source": [
    "name = 'Mat'\n",
    "country = 'Poland'\n",
    "city = 'Lodz'\n",
    "\n",
    "sentence = (\n",
    "    f'Hi {name}. '\n",
    "    f'I am from {country}. '\n",
    "    f'I live in {city}. '\n",
    "\n",
    ")\n",
    "print(sentence)"
   ]
  }
 ],
 "metadata": {
  "kernelspec": {
   "display_name": "Python 3 (ipykernel)",
   "language": "python",
   "name": "python3"
  },
  "language_info": {
   "codemirror_mode": {
    "name": "ipython",
    "version": 3
   },
   "file_extension": ".py",
   "mimetype": "text/x-python",
   "name": "python",
   "nbconvert_exporter": "python",
   "pygments_lexer": "ipython3",
   "version": "3.9.12"
  }
 },
 "nbformat": 4,
 "nbformat_minor": 5
}
