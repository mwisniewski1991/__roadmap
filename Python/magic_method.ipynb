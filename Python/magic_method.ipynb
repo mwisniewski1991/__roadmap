{
 "cells": [
  {
   "cell_type": "code",
   "execution_count": 48,
   "id": "35f3b369-eb22-468e-85f9-e3a82b29f470",
   "metadata": {},
   "outputs": [],
   "source": [
    "class Person:\n",
    "    def __init__(self, name, age):\n",
    "        self.name = name\n",
    "        self.age = age\n",
    "        \n",
    "    def __del__(self):\n",
    "        print('Object destroyed !!!')"
   ]
  },
  {
   "cell_type": "code",
   "execution_count": 49,
   "id": "b1f2628b-2a6f-452e-a1be-0dd391d220c3",
   "metadata": {},
   "outputs": [
    {
     "name": "stdout",
     "output_type": "stream",
     "text": [
      "Object destroyed !!!\n"
     ]
    }
   ],
   "source": [
    "p = Person('Mat', 25)\n",
    "del p"
   ]
  },
  {
   "cell_type": "code",
   "execution_count": 62,
   "id": "af6a8e4f-d002-41ea-b50f-2b4364f00aef",
   "metadata": {},
   "outputs": [],
   "source": [
    "class Vector:\n",
    "    def __init__(self, x, y):\n",
    "        self.x = x\n",
    "        self.y = y        \n",
    "        \n",
    "    def __add__(self, other):\n",
    "        return Vector(self.x + other.x, self.y + other.y)\n",
    "    \n",
    "    def __sub__(self, other):\n",
    "        return Vector(self.x - other.x, self.y - other.y)\n",
    "    \n",
    "    def __repr__(self):\n",
    "        return f'X: {self.x} Y: {self.y}'\n",
    "    \n",
    "    def __call__(self):\n",
    "        print('I was called !!!')"
   ]
  },
  {
   "cell_type": "code",
   "execution_count": 75,
   "id": "073c9246-504c-45ad-a838-7ce05864d9b1",
   "metadata": {},
   "outputs": [],
   "source": [
    "# __init__\n",
    "v1 = Vector(10,20)\n",
    "v2 = Vector(50,65)"
   ]
  },
  {
   "cell_type": "code",
   "execution_count": 76,
   "id": "0e25a233-b01b-46a6-984a-833f53cc1b03",
   "metadata": {},
   "outputs": [
    {
     "name": "stdout",
     "output_type": "stream",
     "text": [
      "{'x': 60, 'y': 85}\n"
     ]
    }
   ],
   "source": [
    "# __add__\n",
    "v3 = v1 + v2\n",
    "print(v3.__dict__)"
   ]
  },
  {
   "cell_type": "code",
   "execution_count": 77,
   "id": "dd740afb-d8b2-432e-b769-643be5f67e89",
   "metadata": {},
   "outputs": [
    {
     "name": "stdout",
     "output_type": "stream",
     "text": [
      "{'x': -40, 'y': -45}\n"
     ]
    }
   ],
   "source": [
    "# __sub__\n",
    "v4 = v1 - v2\n",
    "print(v4.__dict__)"
   ]
  },
  {
   "cell_type": "code",
   "execution_count": 78,
   "id": "aeaeb0e7-5936-4a2b-9bde-d9aa86e90c50",
   "metadata": {},
   "outputs": [
    {
     "name": "stdout",
     "output_type": "stream",
     "text": [
      "X: 60 Y: 85\n",
      "X: -40 Y: -45\n"
     ]
    }
   ],
   "source": [
    "# __repr__ \n",
    "print(v3)\n",
    "print(v4)"
   ]
  },
  {
   "cell_type": "code",
   "execution_count": 79,
   "id": "b412b973-96cd-4317-9c2c-26b3838fe055",
   "metadata": {},
   "outputs": [
    {
     "name": "stdout",
     "output_type": "stream",
     "text": [
      "I was called !!!\n"
     ]
    }
   ],
   "source": [
    "# __call__\n",
    "v1()"
   ]
  }
 ],
 "metadata": {
  "kernelspec": {
   "display_name": "Python 3 (ipykernel)",
   "language": "python",
   "name": "python3"
  },
  "language_info": {
   "codemirror_mode": {
    "name": "ipython",
    "version": 3
   },
   "file_extension": ".py",
   "mimetype": "text/x-python",
   "name": "python",
   "nbconvert_exporter": "python",
   "pygments_lexer": "ipython3",
   "version": "3.9.12"
  }
 },
 "nbformat": 4,
 "nbformat_minor": 5
}
