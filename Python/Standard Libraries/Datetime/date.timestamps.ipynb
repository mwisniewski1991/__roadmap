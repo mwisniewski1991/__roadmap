{
 "cells": [
  {
   "cell_type": "markdown",
   "id": "4cee41c1-7708-4453-afef-733d20fd3402",
   "metadata": {},
   "source": [
    "### Datetime\n",
    "Python uses the Unix Epoch: '1970-01-01 00:00 UTC', '1970-01-01 01:00 CET'"
   ]
  },
  {
   "cell_type": "code",
   "execution_count": 1,
   "id": "53308a0e-c09e-4795-961d-b2af024fd411",
   "metadata": {},
   "outputs": [],
   "source": [
    "from datetime import datetime, date, timedelta\n",
    "import pytz"
   ]
  },
  {
   "cell_type": "markdown",
   "id": "488addc9-1f20-4b19-b072-68a00550c94c",
   "metadata": {},
   "source": [
    "#### Basic"
   ]
  },
  {
   "cell_type": "code",
   "execution_count": 2,
   "id": "a8f6f12e-9e80-446d-b44a-8964233b8fc9",
   "metadata": {},
   "outputs": [
    {
     "name": "stdout",
     "output_type": "stream",
     "text": [
      "2022-07-25 14:41:02.748713\n",
      "2022-07-25\n"
     ]
    }
   ],
   "source": [
    "print(datetime.now())\n",
    "print(date.today())"
   ]
  },
  {
   "cell_type": "code",
   "execution_count": 3,
   "id": "bc70b3c1-955e-4069-8e8e-be9a3223d779",
   "metadata": {},
   "outputs": [
    {
     "data": {
      "text/plain": [
       "datetime.time(14, 41, 2, 953889)"
      ]
     },
     "execution_count": 3,
     "metadata": {},
     "output_type": "execute_result"
    }
   ],
   "source": [
    "datetime.now().time()"
   ]
  },
  {
   "cell_type": "code",
   "execution_count": 4,
   "id": "0b78d5bd-5f1d-4726-a412-bd00bacbd1f7",
   "metadata": {},
   "outputs": [
    {
     "data": {
      "text/plain": [
       "datetime.datetime(2022, 7, 25, 12, 41, 3, 227693)"
      ]
     },
     "execution_count": 4,
     "metadata": {},
     "output_type": "execute_result"
    }
   ],
   "source": [
    "datetime.utcnow()"
   ]
  },
  {
   "cell_type": "code",
   "execution_count": null,
   "id": "97dc7a92-1215-4095-85f6-71950fd67f67",
   "metadata": {},
   "outputs": [],
   "source": []
  },
  {
   "cell_type": "code",
   "execution_count": null,
   "id": "e66b3a07-dac7-43ac-8ccf-eee7d3887c5b",
   "metadata": {},
   "outputs": [],
   "source": []
  },
  {
   "cell_type": "code",
   "execution_count": null,
   "id": "158d3ce8-1d6a-4def-9d8e-a15cf0e7c9f9",
   "metadata": {},
   "outputs": [],
   "source": []
  },
  {
   "cell_type": "markdown",
   "id": "4b5c2e6a-0996-4239-b326-234c049b54a0",
   "metadata": {},
   "source": [
    "#### Specific date"
   ]
  },
  {
   "cell_type": "code",
   "execution_count": 5,
   "id": "ad36d616-5054-4517-9a6c-f547f748091e",
   "metadata": {},
   "outputs": [],
   "source": [
    "specific_date = date(2020, 12, 5)"
   ]
  },
  {
   "cell_type": "code",
   "execution_count": 6,
   "id": "887f9614-1cd1-4f00-b263-bb3d08ad9f48",
   "metadata": {},
   "outputs": [
    {
     "name": "stdout",
     "output_type": "stream",
     "text": [
      "2020\n",
      "12\n",
      "5\n",
      "5\n",
      "2020-12-05\n",
      "2030-01-01\n"
     ]
    }
   ],
   "source": [
    "print(specific_date.year)\n",
    "print(specific_date.month)\n",
    "print(specific_date.day)\n",
    "print(specific_date.weekday())\n",
    "\n",
    "new_date = specific_date.replace(year=2030, month=1, day=1)\n",
    "\n",
    "print(specific_date)\n",
    "print(new_date)"
   ]
  },
  {
   "cell_type": "markdown",
   "id": "07dbf998-fc4b-4e77-bdfe-1f97c5de0f39",
   "metadata": {},
   "source": [
    "#### Timedelta"
   ]
  },
  {
   "cell_type": "code",
   "execution_count": 7,
   "id": "dd6c9275-f3a6-4db1-b1e7-1522daad69a4",
   "metadata": {},
   "outputs": [
    {
     "name": "stdout",
     "output_type": "stream",
     "text": [
      "2022-07-25 14:41:18.350177\n"
     ]
    }
   ],
   "source": [
    "now = datetime.now()\n",
    "print(now)"
   ]
  },
  {
   "cell_type": "code",
   "execution_count": 8,
   "id": "d16995f9-a102-4a30-b7dc-8789372c1621",
   "metadata": {},
   "outputs": [
    {
     "name": "stdout",
     "output_type": "stream",
     "text": [
      "2022-07-25 14:41:18.628360\n",
      "2022-07-26 14:41:18.628360\n"
     ]
    }
   ],
   "source": [
    "now = datetime.now()\n",
    "tomorrow = now + timedelta(days=1)\n",
    "print(now)\n",
    "print(tomorrow)"
   ]
  },
  {
   "cell_type": "code",
   "execution_count": 9,
   "id": "59cfe5ee-9156-4014-8a95-7bdd15914728",
   "metadata": {},
   "outputs": [
    {
     "name": "stdout",
     "output_type": "stream",
     "text": [
      "2022-07-25 14:41:18.893584\n",
      "2022-07-25 14:41:28.893584\n"
     ]
    }
   ],
   "source": [
    "now = datetime.now()\n",
    "later = now + timedelta(seconds=10)\n",
    "print(now)\n",
    "print(later)"
   ]
  },
  {
   "cell_type": "code",
   "execution_count": 10,
   "id": "8b253f0b-8103-433d-935d-566b56e5e4f3",
   "metadata": {},
   "outputs": [
    {
     "name": "stdout",
     "output_type": "stream",
     "text": [
      "2022-07-25 14:41:19.145147\n",
      "2022-07-18 14:41:19.145147\n"
     ]
    }
   ],
   "source": [
    "now = datetime.now()\n",
    "last_week_day = now - timedelta(weeks=1)\n",
    "print(now)\n",
    "print(last_week_day)"
   ]
  },
  {
   "cell_type": "markdown",
   "id": "6c731a8e-1436-491a-bdd2-40b9fd06c3da",
   "metadata": {},
   "source": [
    "#### Time Zones"
   ]
  },
  {
   "cell_type": "code",
   "execution_count": 11,
   "id": "1eb60b30-1ec5-44cf-90a8-4aa57d955f86",
   "metadata": {},
   "outputs": [
    {
     "name": "stdout",
     "output_type": "stream",
     "text": [
      "2022-07-25 14:41:20.837568\n",
      "25/07/2022, 14:41:20\n"
     ]
    }
   ],
   "source": [
    "local = datetime.now()\n",
    "print(local)\n",
    "print(local.strftime(\"%d/%m/%Y, %H:%M:%S\"))"
   ]
  },
  {
   "cell_type": "code",
   "execution_count": 15,
   "id": "c9e2f91b-16f6-45da-880e-c32e31a0df1f",
   "metadata": {},
   "outputs": [
    {
     "name": "stdout",
     "output_type": "stream",
     "text": [
      "2022-07-25 14:41:41.904354 :Local\n",
      "2022-07-25 08:41:41.904354-04:00 :NY\n",
      "2022-07-25 21:41:41.904354+09:00: Tokio\n"
     ]
    }
   ],
   "source": [
    "local = datetime.now()\n",
    "print(f'{local} :Local')\n",
    "\n",
    "NY = pytz.timezone('America/New_York')\n",
    "datetime_NY = datetime.now(NY)\n",
    "print(f'{datetime_NY} :NY')\n",
    "\n",
    "Tokyo = pytz.timezone('Asia/Tokyo')\n",
    "datetime_Tokyo = datetime.now(Tokyo)\n",
    "print(f'{datetime_Tokyo}: Tokio')"
   ]
  },
  {
   "cell_type": "markdown",
   "id": "ac85099a-e81d-46e6-bb01-e64e470abeaa",
   "metadata": {},
   "source": [
    "#### Timestamps"
   ]
  },
  {
   "cell_type": "code",
   "execution_count": 16,
   "id": "b3659cb6-2658-4907-a49e-1d2dde651f04",
   "metadata": {},
   "outputs": [
    {
     "name": "stdout",
     "output_type": "stream",
     "text": [
      "2022-07-25 14:41:46.461762\n",
      "1658752906.461762\n"
     ]
    }
   ],
   "source": [
    "now = datetime.now()\n",
    "\n",
    "print(now)\n",
    "print(now.timestamp())"
   ]
  },
  {
   "cell_type": "code",
   "execution_count": 17,
   "id": "d4376ef5-9fa9-4938-b38b-08fbe868642b",
   "metadata": {},
   "outputs": [
    {
     "name": "stdout",
     "output_type": "stream",
     "text": [
      "2022-07-07 11:01:02.756014 :UTC\n",
      "2022-07-07 13:01:02.756014 :Local\n"
     ]
    }
   ],
   "source": [
    "a_timestamp = 1657191662.756014\n",
    "print(f'{datetime.utcfromtimestamp(a_timestamp)} :UTC')\n",
    "print(f'{datetime.fromtimestamp(a_timestamp)} :Local')"
   ]
  },
  {
   "cell_type": "markdown",
   "id": "4a78ee03-9464-4bcd-a8f2-f1a1faffc4dc",
   "metadata": {},
   "source": [
    "#### Formats"
   ]
  },
  {
   "cell_type": "code",
   "execution_count": 18,
   "id": "17d9b119-ada6-4a49-b146-194774607c1c",
   "metadata": {},
   "outputs": [
    {
     "name": "stdout",
     "output_type": "stream",
     "text": [
      "2020-12-25 20:20:20\n",
      "<class 'datetime.datetime'>\n"
     ]
    }
   ],
   "source": [
    "string_time = '2020-12-25 20:20:20'\n",
    "t = datetime.strptime(string_time, '%Y-%m-%d %H:%M:%S')\n",
    "print(t)\n",
    "print(type(t))"
   ]
  },
  {
   "cell_type": "code",
   "execution_count": 19,
   "id": "b764d199-2b01-4e4b-9baf-4061a6a95e9c",
   "metadata": {},
   "outputs": [
    {
     "name": "stdout",
     "output_type": "stream",
     "text": [
      "Mon,  25/07/2022 14:41:47\n",
      "<class 'str'>\n"
     ]
    }
   ],
   "source": [
    "now = datetime.now()\n",
    "string_now = now.strftime('%a,  %d/%m/%Y %H:%M:%S')\n",
    "print(string_now)\n",
    "print(type(string_now))"
   ]
  },
  {
   "cell_type": "code",
   "execution_count": null,
   "id": "94d8648b-9119-4d6c-9831-b7c59a5b1639",
   "metadata": {},
   "outputs": [],
   "source": []
  }
 ],
 "metadata": {
  "kernelspec": {
   "display_name": "Python 3 (ipykernel)",
   "language": "python",
   "name": "python3"
  },
  "language_info": {
   "codemirror_mode": {
    "name": "ipython",
    "version": 3
   },
   "file_extension": ".py",
   "mimetype": "text/x-python",
   "name": "python",
   "nbconvert_exporter": "python",
   "pygments_lexer": "ipython3",
   "version": "3.9.12"
  }
 },
 "nbformat": 4,
 "nbformat_minor": 5
}
