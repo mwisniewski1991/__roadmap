{
 "cells": [
  {
   "cell_type": "code",
   "execution_count": null,
   "metadata": {},
   "outputs": [],
   "source": []
  }
 ],
 "metadata": {
  "kernelspec": {
   "display_name": "Python 3.8.10 64-bit (windows store)",
   "language": "python",
   "name": "python3"
  },
  "language_info": {
   "name": "python",
   "version": "3.8.10"
  },
  "orig_nbformat": 4,
  "vscode": {
   "interpreter": {
    "hash": "9bc1279c013f78b6432c4ebd9f9f59d608b8f91face2fb92ca02c3b11527b5c6"
   }
  }
 },
 "nbformat": 4,
 "nbformat_minor": 2
}
