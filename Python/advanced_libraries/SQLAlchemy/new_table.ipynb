{
 "cells": [
  {
   "cell_type": "code",
   "execution_count": 7,
   "metadata": {},
   "outputs": [],
   "source": [
    "import sqlalchemy as db\n",
    "import pandas as pd\n",
    "\n",
    "# https://www.datacamp.com/tutorial/sqlalchemy-tutorial-examples"
   ]
  },
  {
   "cell_type": "code",
   "execution_count": 8,
   "metadata": {},
   "outputs": [],
   "source": [
    "# BASE OBJECTS\n",
    "engine = db.create_engine('sqlite:///db_test.sqlite')\n",
    "conn = engine.connect()\n",
    "metadata = db.MetaData()"
   ]
  },
  {
   "cell_type": "code",
   "execution_count": 9,
   "metadata": {},
   "outputs": [],
   "source": [
    "# CREATE TABLE\n",
    "engine = db.create_engine('sqlite:///db_test.sqlite')\n",
    "conn = engine.connect()\n",
    "metadata = db.MetaData()\n",
    "\n",
    "Student = db.Table('Student', metadata,\n",
    "              db.Column('Id', db.Integer(),primary_key=True),\n",
    "              db.Column('Name', db.String(255), nullable=False),\n",
    "              db.Column('Major', db.String(255), default=\"Math\"),\n",
    "              db.Column('Pass', db.Boolean(), default=True)\n",
    "              )\n",
    "metadata.create_all(engine)"
   ]
  },
  {
   "cell_type": "code",
   "execution_count": 10,
   "metadata": {},
   "outputs": [],
   "source": [
    "# INSERT ONE\n",
    "query = db.insert(Student).values(Id=1, Name='Matthew', Major=\"English\", Pass=True)\n",
    "Result = conn.execute(query)\n"
   ]
  },
  {
   "cell_type": "code",
   "execution_count": 11,
   "metadata": {},
   "outputs": [],
   "source": [
    "# INSERT MANY\n",
    "query = db.insert(Student)\n",
    "values_list = [\n",
    "            {'Id':'2', 'Name':'Harry', 'Major':\"Science\", 'Pass':False},\n",
    "            {'Id':'3', 'Name':'Nisha', 'Major':\"Science\", 'Pass':False},\n",
    "            {'Id':'4', 'Name':'Natasha', 'Major':\"Math\", 'Pass':True},\n",
    "            {'Id':'5', 'Name':'Ben', 'Major':\"English\", 'Pass':False}]\n",
    "\n",
    "Result = conn.execute(query,values_list)"
   ]
  },
  {
   "cell_type": "code",
   "execution_count": 14,
   "metadata": {},
   "outputs": [
    {
     "name": "stdout",
     "output_type": "stream",
     "text": [
      "[(1, 'Matthew', 'English', True), (2, 'Harry', 'Science', False), (3, 'Nisha', 'Science', False), (4, 'Natasha', 'Math', True), (5, 'Ben', 'English', False)]\n"
     ]
    }
   ],
   "source": [
    "# QUERY\n",
    "query = Student.select()\n",
    "output = conn.execute(query)\n",
    "print(output.fetchall())"
   ]
  },
  {
   "cell_type": "code",
   "execution_count": 15,
   "metadata": {},
   "outputs": [
    {
     "name": "stdout",
     "output_type": "stream",
     "text": [
      "[(4, 'Natasha', 'Math', True)]\n"
     ]
    }
   ],
   "source": [
    "# QUERY\n",
    "query = Student.select().where(Student.columns.Major == 'Math')\n",
    "output = conn.execute(query)\n",
    "print(output.fetchall())"
   ]
  },
  {
   "cell_type": "code",
   "execution_count": 16,
   "metadata": {},
   "outputs": [
    {
     "name": "stdout",
     "output_type": "stream",
     "text": [
      "[(5, 'Ben', 'English', False)]\n"
     ]
    }
   ],
   "source": [
    "# AND\n",
    "query = Student.select().where(db.and_(Student.columns.Major == 'English', Student.columns.Pass != True))\n",
    "output = conn.execute(query)\n",
    "print(output.fetchall())"
   ]
  },
  {
   "cell_type": "code",
   "execution_count": 17,
   "metadata": {},
   "outputs": [],
   "source": [
    "# PANDAS\n",
    "query = Student.select().where(Student.columns.Major.in_(['English','Math']))\n",
    "output = conn.execute(query)\n",
    "results = output.fetchall()"
   ]
  },
  {
   "cell_type": "code",
   "execution_count": 18,
   "metadata": {},
   "outputs": [
    {
     "data": {
      "text/html": [
       "<div>\n",
       "<style scoped>\n",
       "    .dataframe tbody tr th:only-of-type {\n",
       "        vertical-align: middle;\n",
       "    }\n",
       "\n",
       "    .dataframe tbody tr th {\n",
       "        vertical-align: top;\n",
       "    }\n",
       "\n",
       "    .dataframe thead th {\n",
       "        text-align: right;\n",
       "    }\n",
       "</style>\n",
       "<table border=\"1\" class=\"dataframe\">\n",
       "  <thead>\n",
       "    <tr style=\"text-align: right;\">\n",
       "      <th></th>\n",
       "      <th>Id</th>\n",
       "      <th>Name</th>\n",
       "      <th>Major</th>\n",
       "      <th>Pass</th>\n",
       "    </tr>\n",
       "  </thead>\n",
       "  <tbody>\n",
       "    <tr>\n",
       "      <th>0</th>\n",
       "      <td>1</td>\n",
       "      <td>Matthew</td>\n",
       "      <td>English</td>\n",
       "      <td>True</td>\n",
       "    </tr>\n",
       "    <tr>\n",
       "      <th>1</th>\n",
       "      <td>4</td>\n",
       "      <td>Natasha</td>\n",
       "      <td>Math</td>\n",
       "      <td>True</td>\n",
       "    </tr>\n",
       "    <tr>\n",
       "      <th>2</th>\n",
       "      <td>5</td>\n",
       "      <td>Ben</td>\n",
       "      <td>English</td>\n",
       "      <td>False</td>\n",
       "    </tr>\n",
       "  </tbody>\n",
       "</table>\n",
       "</div>"
      ],
      "text/plain": [
       "   Id     Name    Major   Pass\n",
       "0   1  Matthew  English   True\n",
       "1   4  Natasha     Math   True\n",
       "2   5      Ben  English  False"
      ]
     },
     "execution_count": 18,
     "metadata": {},
     "output_type": "execute_result"
    }
   ],
   "source": [
    "data = pd.DataFrame(results, columns=results[0].keys())\n",
    "data"
   ]
  }
 ],
 "metadata": {
  "kernelspec": {
   "display_name": "Python 3.8.3 32-bit",
   "language": "python",
   "name": "python3"
  },
  "language_info": {
   "codemirror_mode": {
    "name": "ipython",
    "version": 3
   },
   "file_extension": ".py",
   "mimetype": "text/x-python",
   "name": "python",
   "nbconvert_exporter": "python",
   "pygments_lexer": "ipython3",
   "version": "3.8.3"
  },
  "orig_nbformat": 4,
  "vscode": {
   "interpreter": {
    "hash": "2469a70536e4d2335a2ea8907942d0699c37342a371ac185bdb5b0aa6f073890"
   }
  }
 },
 "nbformat": 4,
 "nbformat_minor": 2
}
